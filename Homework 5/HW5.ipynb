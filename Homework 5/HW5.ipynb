{
 "cells": [
  {
   "cell_type": "markdown",
   "metadata": {},
   "source": [
    "# Домашняя работа №5\n",
    "\n",
    "\n",
    "\n",
    "## Задание 1"
   ]
  },
  {
   "cell_type": "code",
   "execution_count": 116,
   "metadata": {},
   "outputs": [
    {
     "name": "stdout",
     "output_type": "stream",
     "text": [
      "из файла purchase_log.txt в словарь добавлено 99999 строк\n",
      "в файл funnel.csv добавлено 13799 строк\n"
     ]
    }
   ],
   "source": [
    "import json\n",
    "\n",
    "\n",
    "purchase_dict = {}\n",
    "with open('purchase_log.txt',encoding='utf-8') as f:    \n",
    "    for i,line in enumerate(f):        \n",
    "        line_dict = json.loads(line.strip())\n",
    "        purchase_dict[line_dict['user_id']] = line_dict['category']       \n",
    "        \n",
    "    print(f\"из файла purchase_log.txt в словарь добавлено {i} строк\")\n",
    "        \n",
    "with open('funnel.csv', 'w', encoding='utf-8') as r:\n",
    "    v = open('visit_log.csv', 'r', encoding='utf-8') \n",
    "    j=0\n",
    "    for line in v:         \n",
    "        line_visit = line.strip().split(',')  \n",
    "        if line_visit[0] in purchase_dict:\n",
    "            j += 1\n",
    "            line_visit = line.strip() + ',' + purchase_dict[line_visit[0]]         \n",
    "            r.write(json.dumps(line_visit))\n",
    "            \n",
    "\n",
    "    print(f\"в файл funnel.csv добавлено {j} строк\")\n",
    "            \n",
    "      "
   ]
  },
  {
   "cell_type": "code",
   "execution_count": null,
   "metadata": {},
   "outputs": [],
   "source": []
  }
 ],
 "metadata": {
  "kernelspec": {
   "display_name": "Python 3",
   "language": "python",
   "name": "python3"
  },
  "language_info": {
   "codemirror_mode": {
    "name": "ipython",
    "version": 3
   },
   "file_extension": ".py",
   "mimetype": "text/x-python",
   "name": "python",
   "nbconvert_exporter": "python",
   "pygments_lexer": "ipython3",
   "version": "3.8.5"
  }
 },
 "nbformat": 4,
 "nbformat_minor": 4
}
