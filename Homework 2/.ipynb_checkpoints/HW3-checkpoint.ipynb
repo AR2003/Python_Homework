{
 "cells": [
  {
   "cell_type": "markdown",
   "metadata": {},
   "source": [
    "### Домашняя работа №3\n",
    "\n",
    "\n",
    "## Задание 1"
   ]
  },
  {
   "cell_type": "code",
   "execution_count": 61,
   "metadata": {},
   "outputs": [
    {
     "name": "stdout",
     "output_type": "stream",
     "text": [
      "{98, 35, 15, 213, 54, 119}\n"
     ]
    }
   ],
   "source": [
    "ids = {'user1': [213, 213, 213, 15, 213],\n",
    "'user2': [54, 54, 119, 119, 119],\n",
    "'user3': [213, 98, 98, 35]}\n",
    "\n",
    "total_list=[]\n",
    "for element in list(ids.values()):\n",
    "    total_list = total_list+element\n",
    "    \n",
    "print(set(total_list))\n",
    "    "
   ]
  },
  {
   "cell_type": "markdown",
   "metadata": {},
   "source": [
    "## Задание 2\n"
   ]
  },
  {
   "cell_type": "code",
   "execution_count": 80,
   "metadata": {},
   "outputs": [
    {
     "name": "stdout",
     "output_type": "stream",
     "text": [
      "Поисковых запросов, содержащих 3 слов(а): 57.14\n",
      "Поисковых запросов, содержащих 2 слов(а): 42.86\n",
      "Поисковых запросов, содержащих 2 слов(а): 42.86\n",
      "Поисковых запросов, содержащих 3 слов(а): 57.14\n"
     ]
    }
   ],
   "source": [
    "queries = [\n",
    "'смотреть сериалы онлайн',\n",
    "'новости спорта',\n",
    "'афиша кино',\n",
    "'курс доллара',\n",
    "'сериалы этим летом',\n",
    "'курс по питону',\n",
    "'сериалы про спорт',\n",
    "]\n",
    "\n",
    "queries_counter = {}\n",
    "\n",
    "for element in queries:\n",
    "    queries_length = len(element.split(\" \"))   \n",
    "    if queries_length in queries_counter:\n",
    "       queries_counter[queries_length] += 1       \n",
    "    else:\n",
    "       queries_counter[queries_length] = 1 \n",
    "\n",
    "# вывод без упорядочения по количеству слов в запросе    \n",
    "for key,value in queries_counter.items():   \n",
    "    print(f\"Поисковых запросов, содержащих {key} слов(а): {round(value/len(queries)*100,2)}\")        \n",
    "\n",
    "# вывод, упорядоченный по количеству слов в запросе      \n",
    "list_keys = list(queries_counter.keys())\n",
    "for i in sorted(list_keys): \n",
    "    print(f\"Поисковых запросов, содержащих {i} слов(а): {round(queries_counter[i]/len(queries)*100,2)}\")\n",
    "\n",
    "\n",
    " "
   ]
  },
  {
   "cell_type": "markdown",
   "metadata": {},
   "source": [
    "## Задание 3"
   ]
  },
  {
   "cell_type": "code",
   "execution_count": null,
   "metadata": {},
   "outputs": [],
   "source": []
  },
  {
   "cell_type": "code",
   "execution_count": 96,
   "metadata": {},
   "outputs": [
    {
     "name": "stdout",
     "output_type": "stream",
     "text": [
      "{'vk': {'revenue': 103, 'cost': 98, 'ROI': 5.1}, 'yandex': {'revenue': 179, 'cost': 153, 'ROI': 16.99}, 'facebook': {'revenue': 103, 'cost': 110, 'ROI': -6.36}, 'adwords': {'revenue': 35, 'cost': 34, 'ROI': 2.94}, 'twitter': {'revenue': 11, 'cost': 24, 'ROI': -54.17}}\n",
      "\n",
      "adwords {'revenue': 35, 'cost': 34, 'ROI': 2.94}\n",
      "facebook {'revenue': 103, 'cost': 110, 'ROI': -6.36}\n",
      "twitter {'revenue': 11, 'cost': 24, 'ROI': -54.17}\n",
      "vk {'revenue': 103, 'cost': 98, 'ROI': 5.1}\n",
      "yandex {'revenue': 179, 'cost': 153, 'ROI': 16.99}\n"
     ]
    }
   ],
   "source": [
    "results = {\n",
    "'vk': {'revenue': 103, 'cost': 98},\n",
    "'yandex': {'revenue': 179, 'cost': 153},\n",
    "'facebook': {'revenue': 103, 'cost': 110},\n",
    "'adwords': {'revenue': 35, 'cost': 34},\n",
    "'twitter': {'revenue': 11, 'cost': 24},\n",
    "}\n",
    "\n",
    "# неупорядоченный вывод\n",
    "for ad_source,metrics in results.items():   \n",
    "    metrics[\"ROI\"] = round((metrics[\"revenue\"] / metrics[\"cost\"] - 1) * 100,2)\n",
    "print(results)\n",
    "\n",
    "\n",
    "# вывод, упорядоченный по алфавиту по источникам трафика\n",
    "print(\"\")\n",
    "list_keys = sorted(results.keys())\n",
    "for i in sorted(list_keys):\n",
    "    print(i,results[i])\n",
    "    \n",
    "    \n"
   ]
  },
  {
   "cell_type": "markdown",
   "metadata": {},
   "source": [
    "## Задание 4"
   ]
  },
  {
   "cell_type": "code",
   "execution_count": 99,
   "metadata": {},
   "outputs": [
    {
     "name": "stdout",
     "output_type": "stream",
     "text": [
      " Максимальный объем продаж на рекламном канале: vk\n"
     ]
    }
   ],
   "source": [
    "stats = {'facebook': 55, 'yandex': 115, 'vk': 120, 'google': 99, 'email': 42, 'ok': 98}\n",
    "\n",
    "max_value = 0\n",
    "\n",
    "for key,value in stats.items():\n",
    "      if value > max_value:\n",
    "          max_value = value\n",
    "          max_key = key\n",
    "            \n",
    "print(f\" Максимальный объем продаж на рекламном канале: {max_key}\")      \n",
    "\n",
    "\n",
    "\n"
   ]
  },
  {
   "cell_type": "markdown",
   "metadata": {},
   "source": [
    "## Задание 5"
   ]
  },
  {
   "cell_type": "code",
   "execution_count": 33,
   "metadata": {},
   "outputs": [
    {
     "name": "stdout",
     "output_type": "stream",
     "text": [
      "23.25\n"
     ]
    }
   ],
   "source": []
  },
  {
   "cell_type": "markdown",
   "metadata": {},
   "source": [
    "## Задание 6\n"
   ]
  },
  {
   "cell_type": "code",
   "execution_count": null,
   "metadata": {},
   "outputs": [],
   "source": []
  },
  {
   "cell_type": "code",
   "execution_count": 36,
   "metadata": {},
   "outputs": [
    {
     "name": "stdout",
     "output_type": "stream",
     "text": [
      "Введите набор чисел1 2 2 3 1 5 6 2 \n",
      "Результат\n",
      "['2', '1']\n"
     ]
    }
   ],
   "source": []
  },
  {
   "cell_type": "code",
   "execution_count": null,
   "metadata": {},
   "outputs": [],
   "source": []
  }
 ],
 "metadata": {
  "kernelspec": {
   "display_name": "Python 3",
   "language": "python",
   "name": "python3"
  },
  "language_info": {
   "codemirror_mode": {
    "name": "ipython",
    "version": 3
   },
   "file_extension": ".py",
   "mimetype": "text/x-python",
   "name": "python",
   "nbconvert_exporter": "python",
   "pygments_lexer": "ipython3",
   "version": "3.8.5"
  }
 },
 "nbformat": 4,
 "nbformat_minor": 4
}
