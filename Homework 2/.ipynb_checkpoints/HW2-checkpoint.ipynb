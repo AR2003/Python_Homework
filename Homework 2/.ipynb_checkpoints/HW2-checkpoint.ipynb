{
 "cells": [
  {
   "cell_type": "markdown",
   "metadata": {},
   "source": [
    "# Домашняя работа №2\n",
    "\n",
    "\n",
    "## Задание 1"
   ]
  },
  {
   "cell_type": "code",
   "execution_count": 30,
   "metadata": {},
   "outputs": [
    {
     "name": "stdout",
     "output_type": "stream",
     "text": [
      "Введите слово1234\n",
      "23\n"
     ]
    }
   ],
   "source": [
    "word = input(\"Введите слово\")\n",
    "if len(word) % 2 != 0:\n",
    "    print(word[len(word)//2])\n",
    "else:\n",
    "    print(word[(len(word)//2-1):(len(word)//2+1)]) \n",
    "    "
   ]
  },
  {
   "cell_type": "markdown",
   "metadata": {},
   "source": [
    "## Задание 2\n"
   ]
  },
  {
   "cell_type": "code",
   "execution_count": 87,
   "metadata": {},
   "outputs": [
    {
     "name": "stdout",
     "output_type": "stream",
     "text": [
      "Введите год2020\n",
      "Високосный год\n"
     ]
    }
   ],
   "source": [
    "sum = 0\n",
    "while i != 0:\n",
    "    i = int(input(Введите число))\n",
    "    sum = sum + i\n",
    "print ()    \n",
    " "
   ]
  },
  {
   "cell_type": "markdown",
   "metadata": {},
   "source": [
    "## Задание 3"
   ]
  },
  {
   "cell_type": "code",
   "execution_count": 48,
   "metadata": {},
   "outputs": [
    {
     "name": "stdout",
     "output_type": "stream",
     "text": [
      "Введите день рождения123\n",
      "Введите месяц рожденияsdfs\n",
      "Ваш знак зодиака: Не определен из-за неверного ввода даты\n"
     ]
    }
   ],
   "source": [
    "day = int(input(\"Введите день рождения\"))\n",
    "month = input(\"Введите месяц рождения\")\n",
    "if ((day >= 21) and (month == \"март\")) or ((day <= 20) and (month == \"апрель\")):\n",
    "    result = \"Овен\"\n",
    "elif ((day >= 21) and (month == \"апрель\")) or ((day <= 20) and (month == \"май\")):\n",
    "    result = \"Телец\"\n",
    "elif ((day >= 21) and (month == \"май\")) or ((day <= 20) and (month == \"июнь\")):\n",
    "    result = \"Близнецы\"    \n",
    "elif ((day >= 21) and (month == \"июнь\")) or ((day <= 22) and (month == \"июль\")):\n",
    "    result = \"Рак\"\n",
    "elif ((day >= 23) and (month == \"июль\")) or ((day <= 22) and (month == \"август\")):\n",
    "    result = \"Лев\"    \n",
    "elif ((day >= 23) and (month == \"август\")) or ((day <= 23) and (month == \"сентябрь\")):\n",
    "    result = \"Дева\"      \n",
    "elif ((day >= 24) and (month == \"сентябрь\")) or ((day <= 23) and (month == \"октябрь\")):\n",
    "    result = \"Весы\"      \n",
    "elif ((day >= 24) and (month == \"октябрь\")) or ((day <= 21) and (month == \"ноябрь\")):\n",
    "    result = \"Скорпион\"      \n",
    "elif ((day >= 22) and (month == \"ноябрь\")) or ((day <= 21) and (month == \"декабрь\")):\n",
    "    result = \"Стрелец\"      \n",
    "elif ((day >= 22) and (month == \"декабрь\")) or ((day <= 21) and (month == \"январь\")):\n",
    "    result = \"Козерог\"      \n",
    "elif ((day >= 22) and (month == \"январь\")) or ((day <= 18) and (month == \"февраль\")):\n",
    "    result = \"Водолей\"   \n",
    "elif ((day >= 19) and (month == \"февраль\")) or ((day <= 20) and (month == \"март\")):\n",
    "    result = \"Рыбы\"   \n",
    "else: \n",
    "  result = \"Не определен из-за неверного ввода даты\"\n",
    "\n",
    "print(\"Ваш знак зодиака: \" + result)   \n",
    "    \n"
   ]
  },
  {
   "cell_type": "markdown",
   "metadata": {},
   "source": [
    "## Задание 4"
   ]
  },
  {
   "cell_type": "code",
   "execution_count": 57,
   "metadata": {},
   "outputs": [
    {
     "name": "stdout",
     "output_type": "stream",
     "text": [
      "Width?20\n",
      "Height?12\n",
      "Length?1\n",
      "Коробка №2\n"
     ]
    }
   ],
   "source": [
    "width = int(input(\"Width?\"))\n",
    "height = int(input(\"Height?\"))\n",
    "length = int(input(\"Length?\"))\n",
    "result = \"Стандартная коробка №3\"\n",
    "if (width < 15) and (height < 15) and (length < 15) :\n",
    "    result = \"Коробка №1\"\n",
    "elif ((width > 15) and (width < 50)) or ((height > 15) and (height < 50)) or ((length) > 15 and (length < 50)) :\n",
    "    result = \"Коробка №2\"\n",
    "elif (length > 200) or (width > 200) or (length > 200) :\n",
    "    result = \"Упаковка для лыж\"\n",
    "\n",
    "print(result)"
   ]
  },
  {
   "cell_type": "markdown",
   "metadata": {},
   "source": [
    "## Задание 5"
   ]
  },
  {
   "cell_type": "code",
   "execution_count": 74,
   "metadata": {},
   "outputs": [
    {
     "name": "stdout",
     "output_type": "stream",
     "text": [
      "Введите номер билета123123\n",
      "Счастливый билет\n"
     ]
    }
   ],
   "source": [
    "ticket_number = input(\"Введите номер билета\")\n",
    "\n",
    "if len(ticket_number) != 6:\n",
    "    print (\"Невозможно определить уровень счастья\")    \n",
    "else:\n",
    "    if (int(ticket_number[0])+int(ticket_number[1])+int(ticket_number[2])) == (int(ticket_number[3])+int(ticket_number[4])+int(ticket_number[5])):\n",
    "        print (\"Счастливый билет\")\n",
    "    else:\n",
    "        print (\"Несчастливый билет\")\n",
    "    "
   ]
  },
  {
   "cell_type": "markdown",
   "metadata": {},
   "source": [
    "## Задание 6\n"
   ]
  },
  {
   "cell_type": "code",
   "execution_count": 86,
   "metadata": {},
   "outputs": [
    {
     "name": "stdout",
     "output_type": "stream",
     "text": [
      "Введите тип фигурытреугольник\n",
      "Введите сторону a2\n",
      "Введите сторону b2\n",
      "Введите сторону c3\n",
      "1.984313483298443\n"
     ]
    }
   ],
   "source": [
    "shape_type = input(\"Введите тип фигуры\")\n",
    "if shape_type == \"круг\" :\n",
    "    radius = int(input(\"Введите радиус\"))\n",
    "    square = 3.14 * radius ** 2 \n",
    "elif shape_type == \"треугольник\" :\n",
    "    side_a = int(input(\"Введите сторону a\"))\n",
    "    side_b = int(input(\"Введите сторону b\"))\n",
    "    side_c = int(input(\"Введите сторону c\"))\n",
    "    half_perimeter = (side_a + side_b + side_c)/2\n",
    "    square = (half_perimeter * (half_perimeter-side_a) * (half_perimeter-side_b) * (half_perimeter-side_c)) ** 0.5\n",
    "elif shape_type == \"прямоугольник\" :\n",
    "    side_a = int(input(\"Введите сторону a\"))\n",
    "    side_b = int(input(\"Введите сторону b\"))\n",
    "    square = side_a * side_b \n",
    "else:\n",
    "    print(\"Неизвестная фигура\")\n",
    "\n",
    "print(square)    "
   ]
  },
  {
   "cell_type": "code",
   "execution_count": null,
   "metadata": {},
   "outputs": [],
   "source": []
  }
 ],
 "metadata": {
  "kernelspec": {
   "display_name": "Python 3",
   "language": "python",
   "name": "python3"
  },
  "language_info": {
   "codemirror_mode": {
    "name": "ipython",
    "version": 3
   },
   "file_extension": ".py",
   "mimetype": "text/x-python",
   "name": "python",
   "nbconvert_exporter": "python",
   "pygments_lexer": "ipython3",
   "version": "3.8.5"
  }
 },
 "nbformat": 4,
 "nbformat_minor": 4
}
