{
 "cells": [
  {
   "cell_type": "markdown",
   "metadata": {},
   "source": [
    "# Домашняя работа №2\n",
    "\n",
    "\n",
    "## Задание 1"
   ]
  },
  {
   "cell_type": "code",
   "execution_count": 30,
   "metadata": {},
   "outputs": [
    {
     "name": "stdout",
     "output_type": "stream",
     "text": [
      "Введите слово1234\n",
      "23\n"
     ]
    }
   ],
   "source": [
    "ids = {‘user1’: [213, 213, 213, 15, 213],\n",
    "‘user2’: [54, 54, 119, 119, 119],\n",
    "‘user3’: [213, 98, 98, 35]}\n",
    "    "
   ]
  },
  {
   "cell_type": "markdown",
   "metadata": {},
   "source": [
    "## Задание 2\n"
   ]
  },
  {
   "cell_type": "code",
   "execution_count": 98,
   "metadata": {},
   "outputs": [
    {
     "name": "stdout",
     "output_type": "stream",
     "text": [
      "Введите число1\n",
      "Введите число2\n",
      "Введите число3\n",
      "Введите число0\n",
      "Сумма чисел : 6\n"
     ]
    }
   ],
   "source": [
    "summa = 0\n",
    "i = 1\n",
    "while i != 0:    \n",
    "    i = int(input(\"Введите число\"))\n",
    "    summa = summa + i\n",
    "print (f\"Сумма чисел : {summa}\")    \n",
    " "
   ]
  },
  {
   "cell_type": "markdown",
   "metadata": {},
   "source": [
    "## Задание 3"
   ]
  },
  {
   "cell_type": "code",
   "execution_count": 80,
   "metadata": {},
   "outputs": [
    {
     "name": "stdout",
     "output_type": "stream",
     "text": [
      "Идеальные пары:\n",
      "Alex и Emma\n",
      "Arthur и Kate\n",
      "John и Kira\n",
      "Peter и Liza\n",
      "Richard и Trisha\n",
      " \n",
      "Внимание, кто-то может остаться без пары!\n"
     ]
    }
   ],
   "source": [
    "boys = ['Peter', 'Alex', 'John', 'Arthur', 'Richard']\n",
    "girls = ['Kate', 'Liza', 'Kira', 'Emma', 'Trisha']\n",
    "\n",
    "if len(boys) == len(girls):\n",
    "    i = 0\n",
    "    print(\"Идеальные пары:\")\n",
    "    while i < len(boys):         \n",
    "         print(f\"{sorted(boys)[i]} и {sorted(girls)[i]}\")\n",
    "         i = i + 1      \n",
    "else:\n",
    "    print(\"Внимание, кто-то может остаться без пары!\")\n",
    "\n",
    "    \n",
    "boys.append('Bill')\n",
    "print(\" \")\n",
    "if len(boys) == len(girls):\n",
    "    i = 0\n",
    "    print(\"Идеальные пары:\")\n",
    "    while i < len(boys):         \n",
    "         print(f\"{sorted(boys)[i]} и {sorted(girls)[i]}\")\n",
    "         i = i + 1      \n",
    "else:\n",
    "    print(\"Внимание, кто-то может остаться без пары!\")\n"
   ]
  },
  {
   "cell_type": "markdown",
   "metadata": {},
   "source": [
    "## Задание 4"
   ]
  },
  {
   "cell_type": "code",
   "execution_count": 7,
   "metadata": {},
   "outputs": [
    {
     "name": "stdout",
     "output_type": "stream",
     "text": [
      "Средняя температура в странах:\n",
      "Thailand - 23.9 C\n",
      "Germany - 13.8 C\n",
      "Russia - 3.7 C\n",
      "Poland - 12.0 C\n"
     ]
    }
   ],
   "source": [
    "countries_temperature = [\n",
    "['Thailand', [75.2, 77, 78.8, 73.4, 68, 75.2, 77]],\n",
    "['Germany', [57.2, 55.4, 59, 59, 53.6]],\n",
    "['Russia', [35.6, 37.4, 39.2, 41, 42.8, 39.2, 35.6]],\n",
    "['Poland', [50, 50, 53.6, 57.2, 55.4, 55.4]]\n",
    "]\n",
    "\n",
    "print(\"Средняя температура в странах:\")\n",
    "for element in countries_temperature:   \n",
    "    print(f\"{element[0]} - {round((sum(element[1])/len(element[1]) - 32) * 5 / 9,1)} C\")   "
   ]
  },
  {
   "cell_type": "markdown",
   "metadata": {},
   "source": [
    "## Задание 5"
   ]
  },
  {
   "cell_type": "code",
   "execution_count": 33,
   "metadata": {},
   "outputs": [
    {
     "name": "stdout",
     "output_type": "stream",
     "text": [
      "23.25\n"
     ]
    }
   ],
   "source": [
    "stream = [\n",
    "'2018-01-01,user1,3',\n",
    "'2018-01-07,user1,4',\n",
    "'2018-03-29,user1,1',\n",
    "'2018-04-04,user1,13',\n",
    "'2018-01-05,user2,7',\n",
    "'2018-06-14,user3,4',\n",
    "'2018-07-02,user3,10',\n",
    "'2018-03-21,user4,19',\n",
    "'2018-03-22,user4,4',\n",
    "'2018-04-22,user4,8',\n",
    "'2018-05-03,user4,9',\n",
    "'2018-05-11,user4,11',\n",
    "]\n",
    "\n",
    "\n",
    "unique_list = []\n",
    "sum_transactions = 0\n",
    "for element in stream:   \n",
    "    user = element.split(\",\")[1]\n",
    "    transactions = element.split(\",\")[2]\n",
    "    if  user not in unique_list:\n",
    "        unique_list.append(user)        \n",
    "    sum_transactions = sum_transactions + int(transactions) \n",
    "\n",
    "print(sum_transactions / len(unique_list))    "
   ]
  },
  {
   "cell_type": "markdown",
   "metadata": {},
   "source": [
    "## Задание 6\n"
   ]
  },
  {
   "cell_type": "code",
   "execution_count": null,
   "metadata": {},
   "outputs": [],
   "source": []
  },
  {
   "cell_type": "code",
   "execution_count": 36,
   "metadata": {},
   "outputs": [
    {
     "name": "stdout",
     "output_type": "stream",
     "text": [
      "Введите набор чисел1 2 2 3 1 5 6 2 \n",
      "Результат\n",
      "['2', '1']\n"
     ]
    }
   ],
   "source": [
    "number_list = input(\"Введите набор чисел\")\n",
    "process_lsit = number_list.split(\" \")\n",
    "unique_list = []\n",
    "double_list = []\n",
    "for element in process_lsit:\n",
    "    if element not in unique_list:\n",
    "        unique_list.append(element)\n",
    "    else:\n",
    "        if element not in double_list:\n",
    "            double_list.append(element)\n",
    "\n",
    "print(\"Результат\")\n",
    "print(double_list)    "
   ]
  },
  {
   "cell_type": "code",
   "execution_count": null,
   "metadata": {},
   "outputs": [],
   "source": []
  }
 ],
 "metadata": {
  "kernelspec": {
   "display_name": "Python 3",
   "language": "python",
   "name": "python3"
  },
  "language_info": {
   "codemirror_mode": {
    "name": "ipython",
    "version": 3
   },
   "file_extension": ".py",
   "mimetype": "text/x-python",
   "name": "python",
   "nbconvert_exporter": "python",
   "pygments_lexer": "ipython3",
   "version": "3.8.5"
  }
 },
 "nbformat": 4,
 "nbformat_minor": 4
}
