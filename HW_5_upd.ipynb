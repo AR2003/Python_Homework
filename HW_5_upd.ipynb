{
 "cells": [
  {
   "cell_type": "markdown",
   "metadata": {
    "id": "_kX74ytuOfgy"
   },
   "source": [
    "# Домашнее задание \"Функции нескольких переменных\"."
   ]
  },
  {
   "cell_type": "markdown",
   "metadata": {
    "id": "t69IZulqTZMz"
   },
   "source": [
    "## Уровень 0:\n"
   ]
  },
  {
   "cell_type": "markdown",
   "metadata": {
    "id": "9JUikPzroAL8"
   },
   "source": [
    "### Задание 1"
   ]
  },
  {
   "cell_type": "markdown",
   "metadata": {
    "id": "ya8BlSO5nQ9a"
   },
   "source": [
    "Посчитайте частные производные функций:\n",
    "\n",
    "1) $f(x,y)=2x^2y^3 + 1/x + y^2x + 7$\n",
    "\n",
    "2) $f(x,y)=x^2y - sin(xy) + cos(x^2) + 6y$"
   ]
  },
  {
   "cell_type": "code",
   "execution_count": 10,
   "metadata": {
    "id": "p2gC3FEFnY08"
   },
   "outputs": [
    {
     "name": "stdout",
     "output_type": "stream",
     "text": [
      "4*x*y**3 + y**2 - 1/x**2\n",
      "6*x**2*y**2 + 2*x*y\n",
      "2*x*y - 2*x*sin(x**2) - y*cos(x*y)\n",
      "x**2 - x*cos(x*y) + 6\n"
     ]
    }
   ],
   "source": [
    "import sympy as sym\n",
    "x=sym.Symbol('x')\n",
    "y=sym.Symbol('y')\n",
    "print(sym.diff(2*x**2*y**3+1/x+y**2*x+7,x))\n",
    "print(sym.diff(2*x**2*y**3+1/x+y**2*x+7,y))\n",
    "\n",
    "print(sym.diff(x**2*y-sym.sin(x*y)+sym.cos(x**2)+6*y,x))\n",
    "print(sym.diff(x**2*y-sym.sin(x*y)+sym.cos(x**2)+6*y,y))"
   ]
  },
  {
   "cell_type": "markdown",
   "metadata": {
    "id": "qZxS_tEVTapE"
   },
   "source": [
    "## Уровень 1:"
   ]
  },
  {
   "cell_type": "markdown",
   "metadata": {
    "id": "gUB5Tx31oDZB"
   },
   "source": [
    "### Задание 2"
   ]
  },
  {
   "cell_type": "markdown",
   "metadata": {
    "id": "Jh-pEPj-TcDQ"
   },
   "source": [
    "Вычислите градиент функции:\n",
    "\n",
    "$f(x,y)=2x^2y^3 + 1/x + y^2x + 7$\n",
    "\n",
    "в точке $(1,2)$"
   ]
  },
  {
   "cell_type": "code",
   "execution_count": 27,
   "metadata": {
    "id": "uco5UzhWoHAP"
   },
   "outputs": [
    {
     "data": {
      "text/plain": [
       "array([35, 28], dtype=object)"
      ]
     },
     "execution_count": 27,
     "metadata": {},
     "output_type": "execute_result"
    }
   ],
   "source": [
    "import numpy as np\n",
    "pr1=sym.diff(2*x**2*y**3+1/x+y**2*x+7,x)\n",
    "pr2=sym.diff(2*x**2*y**3+1/x+y**2*x+7,y)\n",
    "A_Gr=np.array([pr1.subs([(x,1),(y,2)]),pr2.subs([(x,1),(y,2)])])\n",
    "A_Gr"
   ]
  },
  {
   "cell_type": "markdown",
   "metadata": {
    "id": "8VarIpdkxpGK"
   },
   "source": [
    "### Задание 3"
   ]
  },
  {
   "cell_type": "markdown",
   "metadata": {
    "id": "GWBRQp39xpIj"
   },
   "source": [
    "Постройте трехмерный график функции\n",
    "\n",
    "$f(x)=x_2^2-x_1^2 x_2 + 2 x_1 x_2$"
   ]
  },
  {
   "cell_type": "code",
   "execution_count": 37,
   "metadata": {
    "id": "p44HQDIUxpgx"
   },
   "outputs": [
    {
     "name": "stderr",
     "output_type": "stream",
     "text": [
      "<ipython-input-37-4fc60d1c658d>:16: RuntimeWarning: invalid value encountered in sqrt\n",
      "  R = np.sqrt(Y**2-X**2*Y+2*X*Y)\n",
      "<ipython-input-37-4fc60d1c658d>:24: UserWarning: Z contains NaN values. This may result in rendering artifacts.\n",
      "  surf = ax.plot_surface(X, Y, Z, cmap=cm.coolwarm,\n"
     ]
    },
    {
     "name": "stdout",
     "output_type": "stream",
     "text": [
      "[[36.05551275 35.29341298 34.5325933  ... 27.76013328 28.50438563\n",
      "  29.25106836]\n",
      " [35.5677171  34.81446359 34.06244266 ... 27.36643702 28.10249099\n",
      "  28.84088894]\n",
      " [35.07491981 34.33065321 33.58757211 ... 26.96931126 27.6970215\n",
      "  28.42698982]\n",
      " ...\n",
      " [        nan         nan         nan ...         nan         nan\n",
      "          nan]\n",
      " [        nan         nan         nan ...         nan         nan\n",
      "          nan]\n",
      " [        nan         nan         nan ...         nan         nan\n",
      "          nan]]\n",
      "[[-0.99735105 -0.67124993  0.02492331 ...  0.49183898 -0.22802791\n",
      "  -0.82867397]\n",
      " [-0.84693709 -0.25412645  0.47509899 ...  0.7882112   0.17099838\n",
      "  -0.53672855]\n",
      " [-0.49462267  0.22492492  0.8248558  ...  0.96488957  0.54577387\n",
      "  -0.15206371]\n",
      " ...\n",
      " [        nan         nan         nan ...         nan         nan\n",
      "          nan]\n",
      " [        nan         nan         nan ...         nan         nan\n",
      "          nan]\n",
      " [        nan         nan         nan ...         nan         nan\n",
      "          nan]]\n"
     ]
    },
    {
     "data": {
      "image/png": "[encoded data removed]",
      "text/plain": [
       "<Figure size 432x288 with 2 Axes>"
      ]
     },
     "metadata": {
      "needs_background": "light"
     },
     "output_type": "display_data"
    }
   ],
   "source": [
    "from mpl_toolkits.mplot3d import Axes3D\n",
    "import matplotlib.pyplot as plt\n",
    "from matplotlib import cm\n",
    "from matplotlib.ticker import LinearLocator, FormatStrFormatter\n",
    "import numpy as np\n",
    "\n",
    "\n",
    "fig = plt.figure()\n",
    "ax = fig.gca(projection='3d')\n",
    "\n",
    "# Данные\n",
    "X = np.arange(-10, 10, 0.25)\n",
    "Y = np.arange(-10, 10, 0.25)\n",
    "X, Y = np.meshgrid(X, Y)\n",
    "#R = np.sqrt(X**2 + Y**2)\n",
    "R = np.sqrt(Y**2-X**2*Y+2*X*Y)\n",
    "print(R)\n",
    "Z = np.sin(R)\n",
    "print(Z)\n",
    "#Z = np.sqrt(Y**2-X**2*Y+2*X*Y)\n",
    "\n",
    "\n",
    "# График поверхности\n",
    "surf = ax.plot_surface(X, Y, Z, cmap=cm.coolwarm,\n",
    "                       linewidth=0, antialiased=False)\n",
    "\n",
    "# Настройка оси z\n",
    "ax.set_zlim(-1, 1.0)\n",
    "ax.zaxis.set_major_locator(LinearLocator(10))\n",
    "ax.zaxis.set_major_formatter(FormatStrFormatter('%.02f'))\n",
    "\n",
    "# Цветовая легенда\n",
    "fig.colorbar(surf, shrink=0.5, aspect=5)\n",
    "\n",
    "ax.azim = 15\n",
    "ax.dist = 10\n",
    "ax.elev = 30\n",
    "\n",
    "plt.show()"
   ]
  },
  {
   "cell_type": "code",
   "execution_count": null,
   "metadata": {},
   "outputs": [],
   "source": []
  }
 ],
 "metadata": {
  "colab": {
   "collapsed_sections": [],
   "name": "HW_5_upd",
   "provenance": []
  },
  "kernelspec": {
   "display_name": "Python 3",
   "language": "python",
   "name": "python3"
  },
  "language_info": {
   "codemirror_mode": {
    "name": "ipython",
    "version": 3
   },
   "file_extension": ".py",
   "mimetype": "text/x-python",
   "name": "python",
   "nbconvert_exporter": "python",
   "pygments_lexer": "ipython3",
   "version": "3.8.5"
  }
 },
 "nbformat": 4,
 "nbformat_minor": 1
}
