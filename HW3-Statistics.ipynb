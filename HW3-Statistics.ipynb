{
 "cells": [
  {
   "cell_type": "markdown",
   "metadata": {},
   "source": [
    "# Домашняя работа №3\n"
   ]
  },
  {
   "cell_type": "code",
   "execution_count": 89,
   "metadata": {},
   "outputs": [],
   "source": [
    "import numpy as np"
   ]
  },
  {
   "cell_type": "code",
   "execution_count": 88,
   "metadata": {},
   "outputs": [
    {
     "name": "stdout",
     "output_type": "stream",
     "text": [
      "Экспериментальный выигрыш -  0.803583\n",
      "Расчетный выигрыш -  0.8\n"
     ]
    }
   ],
   "source": [
    "exp_num = 1000000 # количество экспериментов\n",
    "exp_size = 1000 # размерность автомата\n",
    "win_sum = 0\n",
    "for i in range(exp_num):\n",
    "    #print(i)\n",
    "    exp_result = (np.random.randint(0,exp_size))\n",
    "    if exp_result == 777: \n",
    "        win_sum += 200\n",
    "       # print(\"сработал 777\")\n",
    "        continue\n",
    "    elif exp_result == 999: \n",
    "        win_sum += 100\n",
    "       # print(\"сработал 999\")\n",
    "        continue\n",
    "    elif exp_result == 555: \n",
    "        win_sum += 50\n",
    "      #  print(\"сработал 555\")\n",
    "        continue\n",
    "    elif exp_result == 333: \n",
    "        win_sum += 15\n",
    "      #  print(\"сработал 333\")\n",
    "        continue\n",
    "    elif exp_result == 111: \n",
    "        win_sum += 10\n",
    "       # print(\"сработал 111\")\n",
    "        continue\n",
    "    elif exp_result == 111: \n",
    "        win_sum += 10\n",
    "       # print(\"сработал 111\")\n",
    "        continue \n",
    "    elif (int(\"1\"+str(exp_result)[-2:]) % 100) == 0: \n",
    "        win_sum += 2        \n",
    "       # print(\"сработал *00\",exp_result)\n",
    "        continue    \n",
    "    elif (int(\"1\"+str(exp_result)[-1:]) % 10) == 0: \n",
    "        win_sum += 1        \n",
    "       # print(\"сработал **0\",exp_result)\n",
    "        continue       \n",
    "    elif (int(str(exp_result)[-2:]) % 77) == 0: \n",
    "        win_sum += 5\n",
    "       # print(\"сработал *77\",exp_result)\n",
    "        continue  \n",
    "    elif (int(str(exp_result)[-1:]) % 7) == 0: \n",
    "        win_sum += 3\n",
    "       # print(\"сработал **7\",exp_result)\n",
    "        continue\n",
    "     \n",
    "        \n",
    "print(\"Экспериментальный выигрыш - \",win_sum/exp_num)\n",
    "\n",
    "# Общее количество равновозможных исходов\n",
    "all_results = 1000\n",
    "# Количество исходов, благоприятствующих появлению \"777\"\n",
    "result_777 = 1\n",
    "# Количество исходов, благоприятствующих появлению \"999\"\n",
    "result_999 = 1\n",
    "# Количество исходов, благоприятствующих появлению \"555\"\n",
    "result_555 = 1\n",
    "# Количество исходов, благоприятствующих появлению \"333\"\n",
    "result_333 = 1\n",
    "# Количество исходов, благоприятствующих появлению \"111\"\n",
    "result_111 = 1\n",
    "\n",
    "# Количество исходов, благоприятствующих появлению \"*77\", но не \"777\"\n",
    "result_77 = 10 - result_777\n",
    "# Количество исходов, благоприятствующих появлению \"**7\", но не \"777\" и не \"*77\"\n",
    "result_7 = 100 - result_777 - result_77\n",
    "\n",
    "# Количество исходов, благоприятствующих появлению \"*00\", \n",
    "result_00 = 10 \n",
    "# Количество исходов, благоприятствующих появлению \"**0\", но не \"777\" и не \"*77\"\n",
    "result_0 = 100 - result_00 \n",
    "\n",
    "win_sum = ((result_777*200) + (result_999*100) + (result_555*50) + (result_333*15) + (result_111*10) + (result_77*5) + (result_7*3)+ (result_00*2) + (result_0*1))/all_results \n",
    "print(\"Расчетный выигрыш - \",win_sum)\n",
    "\n",
    "\n",
    "# Вывод:\n",
    "# С учетом стоимости одной игры в 1 руб. игрок в среднем проигрывает в каждой игре 0.2 руб(20 копеек)\n"
   ]
  },
  {
   "cell_type": "code",
   "execution_count": null,
   "metadata": {},
   "outputs": [],
   "source": []
  }
 ],
 "metadata": {
  "kernelspec": {
   "display_name": "Python 3",
   "language": "python",
   "name": "python3"
  },
  "language_info": {
   "codemirror_mode": {
    "name": "ipython",
    "version": 3
   },
   "file_extension": ".py",
   "mimetype": "text/x-python",
   "name": "python",
   "nbconvert_exporter": "python",
   "pygments_lexer": "ipython3",
   "version": "3.8.5"
  }
 },
 "nbformat": 4,
 "nbformat_minor": 4
}
